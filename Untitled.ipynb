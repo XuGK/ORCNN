{
 "cells": [
  {
   "cell_type": "code",
   "execution_count": 1,
   "metadata": {},
   "outputs": [],
   "source": [
    "# You may need to restart your runtime prior to this, to let your installation take effect\n",
    "# Some basic setup:\n",
    "# Setup detectron2 logger\n",
    "import detectron2\n",
    "from detectron2.utils.logger import setup_logger\n",
    "setup_logger()\n",
    "\n",
    "# import some common libraries\n",
    "import numpy as np\n",
    "import os\n",
    "import cv2\n",
    "import random\n",
    "# from google.colab.patches import cv2_imshow\n",
    "\n",
    "# import some common detectron2 utilities\n",
    "from detectron2 import model_zoo\n",
    "from detectron2.engine import DefaultPredictor\n",
    "from detectron2.config import get_cfg\n",
    "from detectron2.utils.visualizer import Visualizer\n",
    "from detectron2.data import DatasetCatalog,MetadataCatalog\n",
    "import matplotlib.pyplot as plt\n",
    "import matplotlib.pylab as pylab\n",
    "from detectron2.data.dataset_mapper import DatasetMapper\n",
    "from detectron2.data.common import AspectRatioGroupedDataset, DatasetFromList, MapDataset\n",
    "\n",
    "from detectron2.data import (\n",
    "    get_detection_dataset_dicts\n",
    ")\n",
    "from detectron2.structures import (\n",
    "    BitMasks,\n",
    "    Boxes,\n",
    "    BoxMode,\n",
    "    Instances,\n",
    "    Keypoints,\n",
    "    PolygonMasks,\n",
    "    RotatedBoxes,\n",
    "    polygons_to_bitmask,\n",
    ")\n",
    "pylab.rcParams['figure.figsize'] = 10,10\n",
    "def imshow(img):\n",
    "    plt.imshow(img[:, :, [2, 1, 0]])\n",
    "    plt.axis(\"off\")\n",
    "    plt.show()\n",
    "    "
   ]
  },
  {
   "cell_type": "code",
   "execution_count": 2,
   "metadata": {},
   "outputs": [],
   "source": [
    "# Register datasets \n",
    "from detectron2.data.datasets import register_coco_instances\n",
    "from detectron2.data import MetadataCatalog\n",
    "dataDir='datasets/coco'\n",
    "annTrainFile='{}/annotations/COCO_amodal_train2014_with_classes_poly.json'.format(dataDir)\n",
    "imgTrainFile = '{}/train2014'.format(dataDir)\n",
    "register_coco_instances(\"amodal_coco_train\", {},annTrainFile , imgTrainFile)\n",
    "# Prepare test datasets \n",
    "annTestFile='{}/annotations/COCO_amodal_val2014_with_classes_poly.json'.format(dataDir)\n",
    "imgTestFile = '{}/val2014'.format(dataDir)\n",
    "from detectron2.data.datasets import register_coco_instances\n",
    "from detectron2.data import MetadataCatalog\n",
    "register_coco_instances(\"amodal_coco_val\", {}, annTestFile, imgTestFile)\n"
   ]
  },
  {
   "cell_type": "code",
   "execution_count": null,
   "metadata": {},
   "outputs": [],
   "source": [
    "cfg = get_cfg()\n",
    "cfg.merge_from_file(model_zoo.get_config_file(\"COCO-InstanceSegmentation/mask_orcnn_R_50_FPN_3x.yaml\"))\n",
    "mapper = DatasetMapper(cfg, True)\n",
    "mydict = get_detection_dataset_dicts([\"amodal_coco_train\"])\n",
    "dataset = DatasetFromList(mydict, copy=False)\n",
    "print(dataset[1])\n",
    "import pdb;pdb.set_trace()\n",
    "dt = mapper(dataset[1])\n"
   ]
  },
  {
   "cell_type": "code",
   "execution_count": 29,
   "metadata": {},
   "outputs": [
    {
     "name": "stdout",
     "output_type": "stream",
     "text": [
      "\u001b[32m[03/01 22:11:33 d2.data.datasets.coco]: \u001b[0mLoaded 2276 images in COCO format from datasets/coco/annotations/COCO_amodal_train2014_with_classes_poly.json\n"
     ]
    },
    {
     "ename": "Exception",
     "evalue": "input type is not supported.",
     "output_type": "error",
     "traceback": [
      "\u001b[0;31m---------------------------------------------------------------------------\u001b[0m",
      "\u001b[0;31mException\u001b[0m                                 Traceback (most recent call last)",
      "\u001b[0;32m<ipython-input-29-37cf5a6cc968>\u001b[0m in \u001b[0;36m<module>\u001b[0;34m\u001b[0m\n\u001b[1;32m      4\u001b[0m \u001b[0mpoly\u001b[0m \u001b[0;34m=\u001b[0m \u001b[0mPolygonMasks\u001b[0m\u001b[0;34m(\u001b[0m\u001b[0minvisible_mask\u001b[0m\u001b[0;34m[\u001b[0m\u001b[0;34m:\u001b[0m\u001b[0;36m5\u001b[0m\u001b[0;34m]\u001b[0m\u001b[0;34m)\u001b[0m\u001b[0;34m\u001b[0m\u001b[0m\n\u001b[1;32m      5\u001b[0m \u001b[0;31m# poly = PolygonMasks([[[0,0,0,0,0,0]],[[0,0,0,0,0,0]],[[0,0,0,0,0,0]],[[0,0,0,0,0,0]],[[0,0,0,0,0,0]],[[0,0,0,0,0,0]]])\u001b[0m\u001b[0;34m\u001b[0m\u001b[0;34m\u001b[0m\u001b[0m\n\u001b[0;32m----> 6\u001b[0;31m \u001b[0mpolygons_to_bitmask\u001b[0m\u001b[0;34m(\u001b[0m\u001b[0mpoly\u001b[0m\u001b[0;34m,\u001b[0m\u001b[0;36m10\u001b[0m\u001b[0;34m,\u001b[0m\u001b[0;36m10\u001b[0m\u001b[0;34m)\u001b[0m\u001b[0;34m\u001b[0m\u001b[0m\n\u001b[0m",
      "\u001b[0;32m~/ORCNN/detectron2/structures/masks.py\u001b[0m in \u001b[0;36mpolygons_to_bitmask\u001b[0;34m(polygons, height, width)\u001b[0m\n\u001b[1;32m     29\u001b[0m     \u001b[0;32massert\u001b[0m \u001b[0mlen\u001b[0m\u001b[0;34m(\u001b[0m\u001b[0mpolygons\u001b[0m\u001b[0;34m)\u001b[0m \u001b[0;34m>\u001b[0m \u001b[0;36m0\u001b[0m\u001b[0;34m,\u001b[0m \u001b[0;34m\"COCOAPI does not support empty polygons\"\u001b[0m\u001b[0;34m\u001b[0m\u001b[0m\n\u001b[1;32m     30\u001b[0m     \u001b[0mrles\u001b[0m \u001b[0;34m=\u001b[0m \u001b[0mmask_utils\u001b[0m\u001b[0;34m.\u001b[0m\u001b[0mfrPyObjects\u001b[0m\u001b[0;34m(\u001b[0m\u001b[0mpolygons\u001b[0m\u001b[0;34m,\u001b[0m \u001b[0mheight\u001b[0m\u001b[0;34m,\u001b[0m \u001b[0mwidth\u001b[0m\u001b[0;34m)\u001b[0m\u001b[0;34m\u001b[0m\u001b[0m\n\u001b[0;32m---> 31\u001b[0;31m     \u001b[0mrle\u001b[0m \u001b[0;34m=\u001b[0m \u001b[0mmask_utils\u001b[0m\u001b[0;34m.\u001b[0m\u001b[0mmerge\u001b[0m\u001b[0;34m(\u001b[0m\u001b[0mrles\u001b[0m\u001b[0;34m)\u001b[0m\u001b[0;34m\u001b[0m\u001b[0m\n\u001b[0m\u001b[1;32m     32\u001b[0m     \u001b[0;32mreturn\u001b[0m \u001b[0mmask_utils\u001b[0m\u001b[0;34m.\u001b[0m\u001b[0mdecode\u001b[0m\u001b[0;34m(\u001b[0m\u001b[0mrle\u001b[0m\u001b[0;34m)\u001b[0m\u001b[0;34m.\u001b[0m\u001b[0mastype\u001b[0m\u001b[0;34m(\u001b[0m\u001b[0mnp\u001b[0m\u001b[0;34m.\u001b[0m\u001b[0mbool\u001b[0m\u001b[0;34m)\u001b[0m\u001b[0;34m\u001b[0m\u001b[0m\n\u001b[1;32m     33\u001b[0m \u001b[0;34m\u001b[0m\u001b[0m\n",
      "\u001b[0;32mpycocotools/_mask.pyx\u001b[0m in \u001b[0;36mpycocotools._mask.frPyObjects\u001b[0;34m()\u001b[0m\n",
      "\u001b[0;31mException\u001b[0m: input type is not supported."
     ]
    }
   ],
   "source": [
    "dataset_dicts = DatasetCatalog.get(\"amodal_coco_train\")\n",
    "annos = [img['annotations'] for img in dataset_dicts ]\n",
    "invisible_mask = [ obj['invisible_mask'] for img in annos for obj in img if obj.get('invisible_mask')]\n",
    "poly = PolygonMasks(invisible_mask[:5])\n",
    "# poly = PolygonMasks([[[0,0,0,0,0,0]],[[0,0,0,0,0,0]],[[0,0,0,0,0,0]],[[0,0,0,0,0,0]],[[0,0,0,0,0,0]],[[0,0,0,0,0,0]]])\n",
    "polygons_to_bitmask(poly,10,10)"
   ]
  },
  {
   "cell_type": "code",
   "execution_count": 33,
   "metadata": {},
   "outputs": [],
   "source": [
    "t = [True,True] \n",
    "f = [False,True]"
   ]
  },
  {
   "cell_type": "code",
   "execution_count": 34,
   "metadata": {},
   "outputs": [
    {
     "ename": "TypeError",
     "evalue": "unsupported operand type(s) for -: 'list' and 'list'",
     "output_type": "error",
     "traceback": [
      "\u001b[0;31m---------------------------------------------------------------------------\u001b[0m",
      "\u001b[0;31mTypeError\u001b[0m                                 Traceback (most recent call last)",
      "\u001b[0;32m<ipython-input-34-d0f87101151c>\u001b[0m in \u001b[0;36m<module>\u001b[0;34m\u001b[0m\n\u001b[0;32m----> 1\u001b[0;31m \u001b[0mg\u001b[0m \u001b[0;34m=\u001b[0m \u001b[0mt\u001b[0m\u001b[0;34m[\u001b[0m\u001b[0;34m:\u001b[0m\u001b[0;34m]\u001b[0m\u001b[0;34m-\u001b[0m \u001b[0mf\u001b[0m\u001b[0;34m[\u001b[0m\u001b[0;34m:\u001b[0m\u001b[0;34m]\u001b[0m\u001b[0;34m\u001b[0m\u001b[0m\n\u001b[0m",
      "\u001b[0;31mTypeError\u001b[0m: unsupported operand type(s) for -: 'list' and 'list'"
     ]
    }
   ],
   "source": [
    "g = t[:]- f[:]"
   ]
  },
  {
   "cell_type": "code",
   "execution_count": null,
   "metadata": {},
   "outputs": [],
   "source": []
  }
 ],
 "metadata": {
  "kernelspec": {
   "display_name": "Python 3",
   "language": "python",
   "name": "python3"
  },
  "language_info": {
   "codemirror_mode": {
    "name": "ipython",
    "version": 3
   },
   "file_extension": ".py",
   "mimetype": "text/x-python",
   "name": "python",
   "nbconvert_exporter": "python",
   "pygments_lexer": "ipython3",
   "version": "3.6.5"
  }
 },
 "nbformat": 4,
 "nbformat_minor": 4
}
